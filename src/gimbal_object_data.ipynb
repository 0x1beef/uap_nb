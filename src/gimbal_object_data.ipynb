{
 "cells": [
  {
   "cell_type": "markdown",
   "metadata": {},
   "source": [
    "<a href=\"https://colab.research.google.com/github/0x1beef/uap/blob/main/nb/gimbal_object_data.ipynb\">\n",
    "    <img src=\"https://colab.research.google.com/assets/colab-badge.svg\" alt=\"Open In Colab\"/>\n",
    "</a>\n",
    "<a href=\"https://kaggle.com/kernels/welcome?src=https://github.com/0x1beef/uap/blob/main/nb/gimbal_object_data.ipynb\">\n",
    "    <img src=\"https://kaggle.com/static/images/open-in-kaggle.svg\" alt=\"Open In Kaggle\"   />\n",
    "</a>"
   ]
  },
  {
   "cell_type": "code",
   "execution_count": null,
   "metadata": {},
   "outputs": [],
   "source": [
    "url = 'https://raw.githubusercontent.com/0x1beef/uap/main/nb'\n",
    "import urllib.request\n",
    "for py_file in ['utils.py','common.py']:\n",
    "    urllib.request.urlretrieve(f'{url}/{py_file}', py_file)\n",
    "import utils, common"
   ]
  },
  {
   "cell_type": "markdown",
   "metadata": {},
   "source": [
    "## **Get the frames**"
   ]
  },
  {
   "cell_type": "code",
   "execution_count": null,
   "metadata": {},
   "outputs": [],
   "source": [
    "gimbal = common.gimbal_from_huggingface()"
   ]
  },
  {
   "cell_type": "markdown",
   "metadata": {},
   "source": [
    "## **Match the last WH frame to the first BH frame**"
   ]
  },
  {
   "cell_type": "code",
   "execution_count": null,
   "metadata": {},
   "outputs": [],
   "source": [
    "import matplotlib.pyplot as plt\n",
    "def show(*imgs):\n",
    "    for img in imgs:\n",
    "        plt.imshow(img, cmap='gray', vmin=0, vmax=255)\n",
    "        plt.show()"
   ]
  },
  {
   "cell_type": "code",
   "execution_count": null,
   "metadata": {},
   "outputs": [],
   "source": [
    "white_hot = gimbal.get_frame(370)\n",
    "black_hot = gimbal.get_frame(372)\n",
    "inv_wh = ~white_hot\n",
    "show(white_hot, inv_wh, black_hot)\n",
    "\n",
    "def is_black_hot(frame):\n",
    "    return frame >= 372"
   ]
  },
  {
   "cell_type": "code",
   "execution_count": null,
   "metadata": {},
   "outputs": [],
   "source": [
    "import numpy as np\n",
    "from scipy.optimize import curve_fit\n",
    "\n",
    "def get_wh_to_bh_lookup():\n",
    "    rows = slice(166,250); cols = slice(201, 228)\n",
    "    inv_wh_roi = inv_wh[rows, cols]\n",
    "    bh_roi = black_hot[rows, cols]\n",
    "    show(inv_wh_roi, bh_roi)\n",
    "\n",
    "    xdata = inv_wh_roi.ravel()\n",
    "    ydata = bh_roi.ravel()\n",
    "    def func(x, g, a, b):\n",
    "        return a * np.power(x / 255, g) * 255 + b\n",
    "    popt, pcov = curve_fit(func, xdata, ydata)\n",
    "    (g,a,b) = popt\n",
    "    print(f'(g,a,b) = ({g:.3f}, {a:.3f}, {b:.3f})')\n",
    "\n",
    "    def func_gab(x):\n",
    "        return func(x, g, a, b)\n",
    "    gab_lookup = np.array([np.clip(func_gab(x),0,255) for x in range(0,256)], np.uint8)\n",
    "    print(gab_lookup)\n",
    "\n",
    "    show(np.take(gab_lookup, inv_wh_roi))\n",
    "    show(np.take(gab_lookup, inv_wh))\n",
    "    show(black_hot)\n",
    "    #show(abs(func_gab(inv_wh)-black_hot))\n",
    "    return gab_lookup\n",
    "\n",
    "gab_lookup = get_wh_to_bh_lookup()\n",
    "def make_black_hot(img):\n",
    "    return np.take(gab_lookup, ~img)"
   ]
  },
  {
   "cell_type": "markdown",
   "metadata": {},
   "source": [
    "## **Calculate the geometry**"
   ]
  },
  {
   "cell_type": "code",
   "execution_count": null,
   "metadata": {},
   "outputs": [],
   "source": [
    "import matplotlib.pyplot as plt\n",
    "import math\n",
    "from dataclasses import dataclass\n",
    "import cv2\n",
    "\n",
    "class Roi:\n",
    "    def __init__(self, full_img_shape):\n",
    "        (h, w) = full_img_shape\n",
    "        roi_factor = 12\n",
    "        (ofsy, ofsx) = (int(h / roi_factor), int(w / roi_factor))\n",
    "        (midy, midx) = (int(h / 2), int(w / 2))\n",
    "        self.y0 = midy - ofsy; self.y1 = midy + ofsy\n",
    "        self.x0 = midx - ofsx; self.x1 = midx + ofsx\n",
    "    def get(self, img):\n",
    "        return img[self.y0:self.y1, self.x0:self.x1]\n",
    "    \n",
    "def point_from_roi(point, roi):\n",
    "    return (point[0] + roi.y0, point[1] + roi.x0)\n",
    "def point_to_roi(point, roi):\n",
    "    return (point[0] - roi.y0, point[1] - roi.x0)\n",
    "\n",
    "def get_frame_roi(frame):\n",
    "    img = gimbal.get_frame(frame)\n",
    "    roi = Roi(img.shape)\n",
    "    roi_img = roi.get(img)\n",
    "    return (roi, roi_img)\n",
    "\n",
    "def get_binary_img(img, factor):\n",
    "    (thresh, binary_img) = cv2.threshold(img, 255 * factor, 255, cv2.THRESH_BINARY)\n",
    "    return binary_img\n",
    "\n",
    "def get_contour(binary_img):\n",
    "    (contours, img) = cv2.findContours(binary_img, cv2.RETR_LIST, cv2.CHAIN_APPROX_SIMPLE)\n",
    "    (h, w) = binary_img.shape\n",
    "    area_threshold = h * w * 0.7\n",
    "    def area_key(contour):\n",
    "        area = cv2.contourArea(contour)\n",
    "        return area if area < area_threshold else 0\n",
    "    contour = max(contours, key=area_key)\n",
    "    return contour\n",
    "\n",
    "@dataclass\n",
    "class GeometryData:\n",
    "    glare_angle: float # degrees\n",
    "    center_of_mass: (float, float) # (x,y)\n",
    "    def to_dict(self):\n",
    "        return {\n",
    "            'glare_angle': self.glare_angle,\n",
    "            'center_of_mass_x': self.center_of_mass[0],\n",
    "            'center_of_mass_y': self.center_of_mass[1],\n",
    "        }\n",
    "\n",
    "def get_contour_geometry(contour, roi):\n",
    "    m = cv2.moments(contour)\n",
    "    elongation_angle = math.atan2(2 * m['mu11'], m['mu20'] - m['mu02']) / 2\n",
    "    center_of_mass = (m['m10'] / m['m00'], m['m01'] / m['m00'])\n",
    "    return GeometryData(math.degrees(elongation_angle), point_from_roi(center_of_mass, roi))\n",
    "\n",
    "def show_geometry(geom, roi, roi_img, contour):\n",
    "    roi_rgb = cv2.cvtColor(roi_img, cv2.COLOR_GRAY2RGB)\n",
    "    roi_rgb = cv2.drawContours(roi_rgb, [contour], -1, (0,255,0), 1)\n",
    "    (x, y) = geom.center_of_mass; (x, y) = (int(x), int(y))\n",
    "    roi_rgb = cv2.drawMarker(roi_rgb, point_to_roi((x,y), roi), (255,0,0), cv2.MARKER_CROSS, 5)\n",
    "    plt.imshow(roi_rgb)\n",
    "    plt.show()\n",
    "    \n",
    "def get_geometry(frame, show_geom = False):\n",
    "    (roi, roi_img) = get_frame_roi(frame)\n",
    "    if not is_black_hot(frame):\n",
    "        roi_img = make_black_hot(roi_img)\n",
    "    binary_img = get_binary_img(roi_img, 0.2)\n",
    "    contour = get_contour(binary_img)\n",
    "    geom = get_contour_geometry(contour, roi)\n",
    "    if show_geom == True:\n",
    "        show_geometry(geom, roi, roi_img, contour)\n",
    "    return geom\n",
    "\n",
    "def test_geometry():\n",
    "    frame = 433\n",
    "    geom = get_geometry(frame, show_geom = True)\n",
    "    print(geom)\n",
    "    \n",
    "test_geometry()"
   ]
  },
  {
   "cell_type": "code",
   "execution_count": null,
   "metadata": {},
   "outputs": [],
   "source": [
    "import pandas as pd\n",
    "df_geom = pd.DataFrame.from_records(\n",
    "    [get_geometry(frame).to_dict() for frame in range(0, gimbal.get_frame_count())]\n",
    ")\n",
    "df_geom.glare_angle.plot(legend = True)\n",
    "df_geom"
   ]
  },
  {
   "cell_type": "markdown",
   "metadata": {},
   "source": [
    "## **Get the calculated horizon values from Sitrec**"
   ]
  },
  {
   "cell_type": "code",
   "execution_count": null,
   "metadata": {},
   "outputs": [],
   "source": [
    "!git clone --depth 1 https://github.com/MickWest/sitrec.git\n",
    "!cd sitrec && cp config.js.example config.js"
   ]
  },
  {
   "cell_type": "code",
   "execution_count": null,
   "metadata": {},
   "outputs": [],
   "source": [
    "!curl -fsSL https://bun.sh/install | bash\n",
    "\n",
    "import os\n",
    "os.environ['PATH'] = \"~/.bun/bin:\" + os.environ['PATH']"
   ]
  },
  {
   "cell_type": "code",
   "execution_count": null,
   "metadata": {},
   "outputs": [],
   "source": [
    "!cd sitrec && bun install"
   ]
  },
  {
   "cell_type": "code",
   "execution_count": null,
   "metadata": {},
   "outputs": [],
   "source": [
    "%%writefile horizon.js\n",
    "// note: the Sitrec internal API may change over time\n",
    "import { initSitch } from \"./sitrec/src/indexCommon.js\"\n",
    "import { get_real_horizon_angle_for_frame } from \"./sitrec/src/JetStuff.js\"\n",
    "import { Sit } from \"./sitrec/src/Globals.js\"\n",
    "import csv from \"./sitrec/src/js/jquery.csv.js\"\n",
    "import fs from \"node:fs\"\n",
    "\n",
    "await initSitch(\"gimbal\", \"SitGimbal.js\")\n",
    "\n",
    "var horizon_column = [[\"human_horizon\"]]\n",
    "for(let frame = 0; frame < Sit.frames; frame++) {\n",
    "    const horizon = get_real_horizon_angle_for_frame(frame);\n",
    "    horizon_column.push([horizon])\n",
    "}\n",
    "\n",
    "const csv_text = csv.fromArrays(horizon_column)\n",
    "fs.writeFileSync(\"sitrec_data.csv\", csv_text)"
   ]
  },
  {
   "cell_type": "code",
   "execution_count": null,
   "metadata": {},
   "outputs": [],
   "source": [
    "!bun horizon.js"
   ]
  },
  {
   "cell_type": "code",
   "execution_count": null,
   "metadata": {},
   "outputs": [],
   "source": [
    "import pandas as pd\n",
    "df_sitrec = pd.read_csv(\"sitrec_data.csv\")\n",
    "df_sitrec"
   ]
  },
  {
   "cell_type": "markdown",
   "metadata": {},
   "source": [
    "## **Collect all the data and upload it to Hugging Face**"
   ]
  },
  {
   "cell_type": "code",
   "execution_count": null,
   "metadata": {},
   "outputs": [],
   "source": [
    "df = df_geom.join(df_sitrec)\n",
    "df"
   ]
  },
  {
   "cell_type": "code",
   "execution_count": null,
   "metadata": {},
   "outputs": [],
   "source": [
    "metadata = {\n",
    "    'wh_to_bh_lookup' : gab_lookup.tolist(),\n",
    "    'fps': gimbal.fps\n",
    "}\n",
    "utils.to_parquet_ext(df, 'object_data.parquet', 'gimbal', metadata)"
   ]
  },
  {
   "cell_type": "code",
   "execution_count": null,
   "metadata": {},
   "outputs": [],
   "source": [
    "utils.upload_to_huggingface('object_data.parquet', 'logicbear/gimbal/data')"
   ]
  }
 ],
 "metadata": {
  "kaggle": {
   "accelerator": "none",
   "dataSources": [],
   "dockerImageVersionId": 30698,
   "isGpuEnabled": false,
   "isInternetEnabled": true,
   "language": "python",
   "sourceType": "notebook"
  },
  "kernelspec": {
   "display_name": "Python 3",
   "language": "python",
   "name": "python3"
  },
  "language_info": {
   "codemirror_mode": {
    "name": "ipython",
    "version": 3
   },
   "file_extension": ".py",
   "mimetype": "text/x-python",
   "name": "python",
   "nbconvert_exporter": "python",
   "pygments_lexer": "ipython3",
   "version": "3.10.13"
  }
 },
 "nbformat": 4,
 "nbformat_minor": 4
}
