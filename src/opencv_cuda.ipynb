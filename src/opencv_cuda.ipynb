{
 "cells": [
  {
   "cell_type": "markdown",
   "metadata": {},
   "source": [
    "<a href=\"https://colab.research.google.com/github/0x1beef/uap/blob/main/src/opencv_cuda.ipynb\">\n",
    "    <img src=\"https://colab.research.google.com/assets/colab-badge.svg\" alt=\"Open In Colab\"/>\n",
    "</a>\n",
    "<a href=\"https://kaggle.com/kernels/welcome?src=https://github.com/0x1beef/uap/blob/main/src/opencv_cuda.ipynb\">\n",
    "    <img src=\"https://kaggle.com/static/images/open-in-kaggle.svg\" alt=\"Open In Kaggle\"   />\n",
    "</a>"
   ]
  },
  {
   "cell_type": "code",
   "execution_count": null,
   "metadata": {},
   "outputs": [],
   "source": [
    "url = 'https://raw.githubusercontent.com/0x1beef/uap/main/src'\n",
    "import os, urllib.request\n",
    "for py_file in ['utils.py','opencv_cuda_installer.py']:\n",
    "    if not os.path.exists(py_file):\n",
    "        urllib.request.urlretrieve(f'{url}/{py_file}', py_file)\n",
    "import utils"
   ]
  },
  {
   "cell_type": "code",
   "execution_count": null,
   "metadata": {},
   "outputs": [],
   "source": [
    "utils.show_env_info()\n",
    "!nvidia-smi\n",
    "!nvidia-smi --query-gpu=compute_cap --format=csv"
   ]
  },
  {
   "cell_type": "code",
   "execution_count": null,
   "metadata": {},
   "outputs": [],
   "source": [
    "import opencv_cuda_installer as cv_cuda\n",
    "if cv_cuda.test_opencv_cuda('current'):\n",
    "    raise Exception('the current OpenCV already has CUDA support')"
   ]
  },
  {
   "cell_type": "markdown",
   "metadata": {},
   "source": [
    "## **Clone OpenCV**"
   ]
  },
  {
   "cell_type": "code",
   "execution_count": null,
   "metadata": {},
   "outputs": [],
   "source": [
    "%%bash\n",
    "# do shallow clones of just the commit that we want, it's a bit faster\n",
    "shallow_clone () {\n",
    "  mkdir -p $1 && cd $1 && git init\n",
    "  git remote add origin $2\n",
    "  git fetch --depth 1 origin $3\n",
    "  git -c advice.detachedHead=false checkout FETCH_HEAD\n",
    "  cd ..\n",
    "}\n",
    "\n",
    "shallow_clone opencv https://github.com/opencv/opencv.git 4.10.0\n",
    "shallow_clone opencv_contrib https://github.com/opencv/opencv_contrib.git 4.10.0"
   ]
  },
  {
   "cell_type": "markdown",
   "metadata": {},
   "source": [
    "## **Install build requirements**"
   ]
  },
  {
   "cell_type": "code",
   "execution_count": null,
   "metadata": {},
   "outputs": [],
   "source": [
    "if utils.get_platform() != \"unknown\":\n",
    "    if utils.get_platform() == \"kaggle\":\n",
    "        # fix cmake errors: /opt/conda/lib/libcurl.so.4: no version information available\n",
    "        !apt-get -y remove cmake\n",
    "        # from https://apt.kitware.com/\n",
    "        !test -f /usr/share/doc/kitware-archive-keyring/copyright || wget -O - https://apt.kitware.com/keys/kitware-archive-latest.asc 2>/dev/null | gpg --dearmor - | sudo tee /usr/share/keyrings/kitware-archive-keyring.gpg >/dev/null\n",
    "        !echo 'deb [signed-by=/usr/share/keyrings/kitware-archive-keyring.gpg] https://apt.kitware.com/ubuntu/ focal main' | tee /etc/apt/sources.list.d/kitware.list >/dev/null\n",
    "        !apt-get update\n",
    "        !apt-get install -y kitware-archive-keyring\n",
    "        !apt-get install -y cmake\n",
    "        !cmake --version\n",
    "\n",
    "    if utils.get_platform() == 'sagemaker':\n",
    "        !pip install huggingface-hub\n",
    "        # can't use apt-get on sagemaker\n",
    "        !conda install -y cmake lld cuda-toolkit=12.2\n",
    "    else:\n",
    "        # the original linker is slow and crashes while trying to allocate too much memory, using lld instead\n",
    "        !apt-get -y install lld\n",
    "    !lld --version"
   ]
  },
  {
   "cell_type": "code",
   "execution_count": null,
   "metadata": {},
   "outputs": [],
   "source": [
    "%%bash\n",
    "if ! cmake --version; then\n",
    "    pip install cmake\n",
    "fi\n",
    "# note: some cmake config errors can result from older cmake versions\n",
    "\n",
    "pip install numpy"
   ]
  },
  {
   "cell_type": "code",
   "execution_count": null,
   "metadata": {},
   "outputs": [],
   "source": [
    "# remove the previous opencv version\n",
    "!pip uninstall opencv_python_headless opencv_python opencv_contrib_python -y"
   ]
  },
  {
   "cell_type": "markdown",
   "metadata": {},
   "source": [
    "## **Configure OpenCV**"
   ]
  },
  {
   "cell_type": "code",
   "execution_count": null,
   "metadata": {},
   "outputs": [],
   "source": [
    "# the arch_bin and arch_ptx should be set according to \n",
    "# what GPUs the the binary is expected to be used with.\n",
    "# see https://docs.opencv.org/4.10.0/d2/dbc/cuda_intro.html\n",
    "def get_cuda_arch_bin_ptx():\n",
    "    # specific platforms will have a particular range of GPUs\n",
    "    platform = utils.get_platform()\n",
    "    if platform == 'kaggle':\n",
    "        return ('60,75','') # T4x2 = 75, P100 = 60 # PTX not needed\n",
    "    if platform == 'colab':\n",
    "        return ('75','75') # T4 = 75 # PTX for other GPUs\n",
    "    if platform == 'sagemaker':\n",
    "        return ('75','75') # T4 = 75\n",
    "    # otherwise, build a binary just for the current GPU\n",
    "    cap_csv = !nvidia-smi --query-gpu=compute_cap --format=csv\n",
    "    cap = cap_csv[1].replace('.','')\n",
    "    return (cap, '')\n",
    "\n",
    "def is_windows():\n",
    "    import sys\n",
    "    return sys.platform.startswith('win')\n",
    "\n",
    "# the OpenCV scripts don't handle backslashes well\n",
    "def fix_path(path):\n",
    "    return path.replace('\\\\', '/')\n",
    "\n",
    "# find the path to the python library the OpenCV bindings will link to\n",
    "def get_python_library():\n",
    "    from os.path import dirname, join, exists\n",
    "    if not is_windows():\n",
    "        from distutils.sysconfig import get_config_var\n",
    "        return join(dirname(get_config_var('LIBPC')), get_config_var('LDLIBRARY'))\n",
    "    else:\n",
    "        # on windows LIBPC/LDLIBRARY are not set.\n",
    "        # assume paths that are typical for a conda environment\n",
    "        import sys\n",
    "        lib_file = f'python{sys.version_info[0]}{sys.version_info[1]}.lib'\n",
    "        env_root = dirname(sys.executable)\n",
    "        lib_file_path = f'{env_root}\\\\libs\\\\{lib_file}'\n",
    "        if not exists(lib_file_path):\n",
    "            raise Exception(f'python library not found at {lib_file_path}')\n",
    "        return lib_file_path\n",
    "    \n",
    "def get_python_args():\n",
    "    python = 'python'\n",
    "    python_path = !which {python}\n",
    "    args = f'-D PYTHON3_EXECUTABLE=\"{python_path[0]}\"'\n",
    "    from distutils.sysconfig import get_python_inc, get_config_h_filename, get_python_lib\n",
    "    from os.path import dirname\n",
    "    args += f' -D PYTHON3_INCLUDE_DIR=\"{fix_path(get_python_inc())}\"'\n",
    "    args += f' -D PYTHON3_INCLUDE_DIR2=\"{fix_path(dirname(get_config_h_filename()))}\"'\n",
    "    args += f' -D PYTHON3_LIBRARY=\"{fix_path(get_python_library())}\"'\n",
    "    import numpy\n",
    "    args += f' -D PYTHON3_NUMPY_INCLUDE_DIRS=\"{fix_path(numpy.get_include())}\"'\n",
    "    args += f' -D PYTHON3_PACKAGES_PATH=\"{fix_path(get_python_lib())}\"'\n",
    "    return args\n",
    "\n",
    "def get_cmake_args():\n",
    "    (arch_bin, arch_ptx) = get_cuda_arch_bin_ptx()\n",
    "    args = f\"-D CUDA_ARCH_BIN={arch_bin} -D CUDA_ARCH_PTX={arch_ptx} \"\n",
    "    args += get_python_args()\n",
    "    return args\n",
    "\n",
    "print(get_cmake_args())"
   ]
  },
  {
   "cell_type": "code",
   "execution_count": null,
   "metadata": {},
   "outputs": [],
   "source": [
    "%%bash -s {utils.get_platform()} {get_cmake_args()}\n",
    "PLATFORM=$1\n",
    "ARGS=( ${@} )\n",
    "CMAKE_ARGS=\"${ARGS[*]:1}\"\n",
    "\n",
    "# build reference: https://docs.opencv.org/4.x/db/d05/tutorial_config_reference.html\n",
    "# available modules: https://docs.opencv.org/4.10.0/modules.html\n",
    "# the opencv modules we're likely to need:\n",
    "BUILD_LIST=imgcodecs,imgproc,text,tracking,features2d,optflow,python3,xfeatures2d\n",
    "BUILD_LIST=$BUILD_LIST,cudafeatures2d,cudaimgproc,cudaoptflow,cudawarping,cudev\n",
    "BUILD_LIST=$BUILD_LIST,highgui # not used but building 'world' fails without this\n",
    "\n",
    "CMAKE_ARGS=(\n",
    "    -B . -S ..\n",
    "    -D CMAKE_BUILD_TYPE=Release\n",
    "    -D CMAKE_INSTALL_PREFIX=`pwd`/opencv/install\n",
    "    -D OPENCV_EXTRA_MODULES_PATH=`pwd`/opencv_contrib/modules\n",
    "    -D BUILD_LIST=$BUILD_LIST\n",
    "    # building everything into one library (world) makes the build faster and is otherwise more convenient\n",
    "    -D BUILD_opencv_world=ON\n",
    "    # the dnn module needs protobuf, but we don't need dnn yet so disable both\n",
    "    -D BUILD_opencv_dnn=OFF\n",
    "    -D WITH_PROTOBUF=OFF\n",
    "    -D WITH_DNN=OFF\n",
    "    -D OPENCV_DNN_CUDA=OFF\n",
    "    -D WITH_CUDNN=OFF\n",
    "    # enable building e.g SURF, which is patented / not free\n",
    "    -D OPENCV_ENABLE_NONFREE=ON\n",
    "    # dont use the old CUDA cmake functions, as per https://cmake.org/cmake/help/latest/policy/CMP0146.html\n",
    "    -D ENABLE_CUDA_FIRST_CLASS_LANGUAGE=ON\n",
    "    -D WITH_CUDA=ON\n",
    "    -D WITH_CUBLAS=ON\n",
    "    -D WITH_TBB=ON # todo: is this used ?\n",
    "    -D BUILD_EXAMPLES=OFF\n",
    "    -D BUILD_TESTS=OFF\n",
    "    -D BUILD_PERF_TESTS=OFF\n",
    "    -D BUILD_opencv_apps=OFF\n",
    "    # we dont need GTK since the gui doesnt work in a notebook\n",
    "    -D WITH_GTK=OFF\n",
    "    -D WITH_OPENEXR=OFF\n",
    "    -D WITH_WEBP=OFF\n",
    "    -D WITH_PYTHON=ON\n",
    "    -D BUILD_opencv_python3=ON\n",
    "    $CMAKE_ARGS\n",
    ")\n",
    "\n",
    "if [ \"$PLATFORM\" == \"kaggle\" ]; then\n",
    "    # on kaggle there's another nvcc at /opt/conda/bin which doesn't work\n",
    "    # fixes: CUDA::nppial - target not found\n",
    "    NVCC_PATH=`echo /usr/local/cuda-*/bin/nvcc | awk '{print $1}'`\n",
    "    CMAKE_ARGS=(\n",
    "        \"${CMAKE_ARGS[@]}\"\n",
    "        -D CMAKE_CUDA_COMPILER=$NVCC_PATH\n",
    "    )\n",
    "fi\n",
    "\n",
    "cd opencv\n",
    "rm -rf build install\n",
    "mkdir -p build install\n",
    "cd build\n",
    "\n",
    "# use the lld linker if available\n",
    "if lld &> /dev/null; then\n",
    "    export LDFLAGS=\"-fuse-ld=lld\" \n",
    "fi\n",
    "time cmake \"${CMAKE_ARGS[@]}\""
   ]
  },
  {
   "cell_type": "markdown",
   "metadata": {},
   "source": [
    "## **Build, install and test OpenCV**"
   ]
  },
  {
   "cell_type": "code",
   "execution_count": null,
   "metadata": {},
   "outputs": [],
   "source": [
    "%%bash\n",
    "cd opencv/build\n",
    "time cmake --build . --config Release --parallel 4 # run only some jobs in parallel to avoid running out of memory"
   ]
  },
  {
   "cell_type": "code",
   "execution_count": null,
   "metadata": {},
   "outputs": [],
   "source": [
    "%%bash\n",
    "cd opencv/build\n",
    "time cmake --install . --config Release"
   ]
  },
  {
   "cell_type": "markdown",
   "metadata": {},
   "source": [
    "On Windows we need to tell the python loader where to find the CUDA binaries. Otherwise we get the following error when importing the library:\n",
    "```bash\n",
    "ImportError: DLL load failed: The specified module could not be found.\n",
    "```"
   ]
  },
  {
   "cell_type": "code",
   "execution_count": null,
   "metadata": {},
   "outputs": [],
   "source": [
    "def patch_dll_path():\n",
    "    import os\n",
    "    nvcc_path = !where nvcc\n",
    "    cuda_bin = os.path.dirname(nvcc_path[0]).replace('\\\\','/')\n",
    "    from distutils.sysconfig import get_python_lib\n",
    "    config_file = get_python_lib() + '/cv2/config.py'\n",
    "    with open(config_file, 'a') as file:\n",
    "        file.write(f\"\\nBINARIES_PATHS += ['{cuda_bin}']\\n\")\n",
    "\n",
    "if is_windows():\n",
    "    patch_dll_path()"
   ]
  },
  {
   "cell_type": "markdown",
   "metadata": {},
   "source": [
    "Windows conda environments will include a version of the Visual C++ Redistributable. This can be incompatible with the Visual C++ version used to build the library, resulting in the following error:\n",
    "```bash\n",
    "ImportError: DLL load failed while importing cv2: A dynamic link library (DLL) initialization routine failed.\n",
    "```\n",
    "[This guide](https://www.jamesbowley.co.uk/qmd/opencv_cuda_python_windows.html#troubleshooting-python-bindings-installation-issues) recommends upgrading the redistributable in the conda environment, but if that still doesn't resolve the issue then the following workaround will move conda's redistributable DLLs to backup locations so that the redistributable that is installed system wide, to e.g C:\\Windows\\System32, will be found instead."
   ]
  },
  {
   "cell_type": "code",
   "execution_count": null,
   "metadata": {},
   "outputs": [],
   "source": [
    "import os\n",
    "def move_msvcrt_to_backup(dir, version):\n",
    "    os.makedirs(f'{dir}/backup', exist_ok = True)\n",
    "    !mv {dir}/*{version}*.dll {dir}/backup\n",
    "\n",
    "def msvcrt_workaround():\n",
    "    version = '140'\n",
    "    python_path = !where python\n",
    "    env_dir = fix_path(os.path.dirname(python_path[0]))\n",
    "    print(env_dir)\n",
    "    move_msvcrt_to_backup(env_dir, version)\n",
    "    move_msvcrt_to_backup(f'{env_dir}/Library/bin', version)\n",
    "\n",
    "#if is_windows(): msvcrt_workaround()"
   ]
  },
  {
   "cell_type": "code",
   "execution_count": null,
   "metadata": {},
   "outputs": [],
   "source": [
    "import cv2\n",
    "print(cv2.__version__)\n",
    "print(cv2.getBuildInformation())\n",
    "# on Colab nvcc is available to build even when no GPU is present\n",
    "if utils.get_platform() != 'colab':\n",
    "    import numpy as np\n",
    "    a = np.full((480,480), 60, np.uint8)\n",
    "    ga = cv2.cuda.GpuMat(a)"
   ]
  },
  {
   "cell_type": "markdown",
   "metadata": {},
   "source": [
    "## **Create a build archive and upload it to Hugging Face**"
   ]
  },
  {
   "cell_type": "code",
   "execution_count": null,
   "metadata": {},
   "outputs": [],
   "source": [
    "%%bash -s {utils.get_platform()}\n",
    "if [ \"$1\" == \"unknown\" ]; then exit; fi\n",
    "OPENCV_LIB=\"opencv/install/lib/libopencv_world.so\"\n",
    "DEPS=`ldd $OPENCV_LIB | grep \"=>\" | sed \"s/.*=> //\" | sed \"s/ (.*//\"`\n",
    "md5sum -b $DEPS > opencv_cuda.md5\n",
    "cp opencv_cuda.md5 opencv/install/lib\n",
    "\n",
    "PACKAGES_PATH=$(python3 -c \"from distutils.sysconfig import get_python_lib; print(get_python_lib())\")\n",
    "\n",
    "tar -czf opencv_cuda.tar.gz -C $PACKAGES_PATH cv2 -C `pwd`/opencv install\n",
    "du -hs *.tar.gz"
   ]
  },
  {
   "cell_type": "code",
   "execution_count": null,
   "metadata": {},
   "outputs": [],
   "source": [
    "if utils.get_platform() != 'unknown':\n",
    "    utils.upload_to_huggingface(['opencv_cuda.tar.gz', 'opencv_cuda.md5'], \n",
    "        f'logicbear/cache/opencv/{utils.get_platform()}')"
   ]
  }
 ],
 "metadata": {
  "kaggle": {
   "accelerator": "gpu",
   "dataSources": [],
   "isGpuEnabled": true,
   "isInternetEnabled": true,
   "language": "python",
   "sourceType": "notebook"
  },
  "kernelspec": {
   "display_name": "Python 3",
   "language": "python",
   "name": "python3"
  },
  "language_info": {
   "codemirror_mode": {
    "name": "ipython",
    "version": 3
   },
   "file_extension": ".py",
   "mimetype": "text/x-python",
   "name": "python",
   "nbconvert_exporter": "python",
   "pygments_lexer": "ipython3",
   "version": "3.10.13"
  }
 },
 "nbformat": 4,
 "nbformat_minor": 4
}
