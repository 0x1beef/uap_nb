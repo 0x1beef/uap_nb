{
 "cells": [
  {
   "cell_type": "markdown",
   "metadata": {},
   "source": [
    "<a href=\"https://colab.research.google.com/github/0x1beef/uap/blob/main/nb/gimbal_adjust_clouds.ipynb\">\n",
    "    <img src=\"https://colab.research.google.com/assets/colab-badge.svg\" alt=\"Open In Colab\"/>\n",
    "</a>\n",
    "<a href=\"https://kaggle.com/kernels/welcome?src=https://github.com/0x1beef/uap/blob/main/nb/gimbal_adjust_clouds.ipynb\">\n",
    "    <img src=\"https://kaggle.com/static/images/open-in-kaggle.svg\" alt=\"Open In Kaggle\"   />\n",
    "</a>"
   ]
  },
  {
   "cell_type": "markdown",
   "metadata": {},
   "source": [
    "## **Get the data**"
   ]
  },
  {
   "cell_type": "code",
   "execution_count": null,
   "metadata": {},
   "outputs": [],
   "source": [
    "url = 'https://raw.githubusercontent.com/0x1beef/uap/main/nb'\n",
    "import urllib.request\n",
    "for py_file in ['utils.py','common.py']:\n",
    "    urllib.request.urlretrieve(f'{url}/{py_file}', py_file)\n",
    "import utils, common"
   ]
  },
  {
   "cell_type": "code",
   "execution_count": null,
   "metadata": {},
   "outputs": [],
   "source": [
    "utils.download_from_huggingface('logicbear/gimbal/data/object_data.parquet')\n",
    "utils.download_from_huggingface('logicbear/gimbal_cloud_means/data/cloud_means.parquet')"
   ]
  },
  {
   "cell_type": "code",
   "execution_count": null,
   "metadata": {},
   "outputs": [],
   "source": [
    "(object_data, object_metadata) = utils.from_parquet_ext('data/object_data.parquet', 'gimbal')\n",
    "(cloud_data, cloud_metadata) = utils.from_parquet_ext('data/cloud_means.parquet', 'clouds')\n",
    "\n",
    "import numpy as np\n",
    "\n",
    "def get_com(frame):\n",
    "    od = object_data.loc[frame]\n",
    "    return np.array([od.center_of_mass_x, od.center_of_mass_y]).T\n",
    "\n",
    "def get_horizon(frame):\n",
    "    return object_data.loc[frame].human_horizon"
   ]
  },
  {
   "cell_type": "markdown",
   "metadata": {},
   "source": [
    "## **Adjust to account for background motion/rotation**"
   ]
  },
  {
   "cell_type": "code",
   "execution_count": null,
   "metadata": {},
   "outputs": [],
   "source": [
    "import math\n",
    "from dataclasses import dataclass\n",
    "from numba import njit\n",
    "\n",
    "@dataclass\n",
    "class AdjustedMotion:\n",
    "    frame: int; frame_diff: int\n",
    "    magnitude: float; angle: float; rotation: float\n",
    "    adj_magnitude: float; adj_angle: float; adj_rotation: float\n",
    "\n",
    "def adjust_cloud_motion(frame, frame_diff_func):\n",
    "    frame_diff = frame_diff_func(frame)\n",
    "    if frame + frame_diff >= len(object_data):\n",
    "        return None\n",
    "    cd = cloud_data.loc[frame, frame_diff]\n",
    "    R = cd['transform'][0:2,0:2]\n",
    "    scale = math.sqrt(R[0,0]*R[0,0] + R[0,1]*R[0,1])\n",
    "    R = R / scale\n",
    "    C = np.array([213,211]).T\n",
    "    P1 = cd.c_inl_mean\n",
    "    P2 = cd.cn_inl_mean\n",
    "    Rinv = np.linalg.inv(R)\n",
    "    O1 = get_com(frame)\n",
    "    O2 = get_com(frame + frame_diff)\n",
    "    V = Rinv @ (P2 - C) - P1 + C - (O2 - O1)\n",
    "    magnitude = np.linalg.norm(V) / frame_diff\n",
    "    angle = math.degrees(math.atan2(V[1], V[0]))\n",
    "    rotation = cd.rotation + (get_horizon(frame + frame_diff) - get_horizon(frame))\n",
    "    return AdjustedMotion(frame, frame_diff, cd.magnitude, cd.angle, cd.rotation,\n",
    "        magnitude, angle, rotation)\n",
    "\n",
    "def adjust_cloud_motion_for(frames, frame_diff_func):\n",
    "    motions = [adjust_cloud_motion(frame, frame_diff_func) for frame in frames]\n",
    "    return [m for m in motions if m is not None]\n",
    "def run_adjust_cloud_motion(frame_diff_func):\n",
    "    return adjust_cloud_motion_for(range(len(object_data)), frame_diff_func)\n",
    "def run_adjust_cloud_motion_parallel(frame_diff_func):\n",
    "    return utils.run_jobs_in_parallel(work_func = adjust_cloud_motion_for,\n",
    "        work_args = (frame_diff_func), jobs = range(len(object_data)), workers = 4)\n",
    "\n",
    "adjust_cloud_motion(0, lambda _: 5)"
   ]
  },
  {
   "cell_type": "markdown",
   "metadata": {},
   "source": [
    "## **Plot the results**"
   ]
  },
  {
   "cell_type": "code",
   "execution_count": null,
   "metadata": {},
   "outputs": [],
   "source": [
    "import pandas as pd\n",
    "import matplotlib.pyplot as plt\n",
    "\n",
    "def get_adj_motion_df(adj_motions):\n",
    "    df = pd.DataFrame.from_records([m.__dict__ for m in adj_motions], index = [\"frame\"])\n",
    "    df = df.sort_index()\n",
    "    df = common.gimbal_fix_wh_to_bh(df, ['magnitude','angle','rotation',\n",
    "        'adj_magnitude','adj_angle','adj_rotation'], minus = df.frame_diff.max())\n",
    "    return df\n",
    "\n",
    "def plot(df, plot_func, x_range):\n",
    "    plot_func(df, x_range)\n",
    "    ax = plt.gca()\n",
    "    ax.set_xlabel('frames',loc='right')\n",
    "    fps = object_metadata['fps']\n",
    "    ax2 = ax.secondary_xaxis(location='top', \n",
    "        functions=(lambda frame: frame / fps, lambda time: time * fps))\n",
    "    ax2.set_xlabel('time [s]',loc='right')\n",
    "    plt.grid()\n",
    "    plt.legend()\n",
    "    plt.show()\n",
    "\n",
    "def mag_plot(df, range):\n",
    "    plt.title('cloud motion magnitude')\n",
    "    plt.ylabel('pixels / frame')\n",
    "    df.magnitude[range].plot(color='gray')\n",
    "    df.adj_magnitude[range].plot(color='orange', label='mag adjusted')\n",
    "\n",
    "def angle_plot(df, range):\n",
    "    plt.title('cloud motion angle')\n",
    "    plt.ylabel('degrees')\n",
    "    df.angle[range].plot(color='gray')\n",
    "    df.adj_angle[range].plot(color='orange', label='angle adjusted')\n",
    "    plt.ylim(bottom=13, top=48)\n",
    "    (-object_data.human_horizon)[range].plot()\n",
    "\n",
    "def rot_plot(df, range):\n",
    "    plt.title('cloud rotation')\n",
    "    plt.ylabel('degrees')\n",
    "    df.rotation[range].plot(color='gray')\n",
    "    df.adj_rotation[range].plot(color='orange', label='rot adjusted')\n",
    "\n",
    "def plot_all(df):\n",
    "    plot(df, mag_plot, range(len(df)))\n",
    "    plot(df, mag_plot, range(700, len(df)))\n",
    "    plot(df, angle_plot, range(len(df)))\n",
    "    plot(df, rot_plot, range(len(df)))\n",
    "    plot(df, rot_plot, range(700, len(df)))"
   ]
  },
  {
   "cell_type": "code",
   "execution_count": null,
   "metadata": {},
   "outputs": [],
   "source": [
    "def run_and_plot_all(frame_diff_from, frame_diff_to):\n",
    "    print(f'frame diff: {frame_diff_from} - {frame_diff_to}')\n",
    "    num_frames = len(object_data)\n",
    "    def get_frame_diff(frame):\n",
    "        return int(frame_diff_from + frame * (frame_diff_to + 1 - frame_diff_from) / num_frames)\n",
    "    adj_motions = %time run_adjust_cloud_motion(get_frame_diff)\n",
    "    df = get_adj_motion_df(adj_motions)\n",
    "    %time plot_all(df)"
   ]
  },
  {
   "cell_type": "code",
   "execution_count": null,
   "metadata": {},
   "outputs": [],
   "source": [
    "from ipywidgets import interact\n",
    "import ipywidgets as widgets\n",
    "\n",
    "@interact\n",
    "def run_interact(fd_from = widgets.IntSlider(description = 'diff from:', min=2, max=12, value=6),\n",
    "        fd_to = widgets.IntSlider(description = 'diff to:', min=4, max=14, value=10) ):\n",
    "    run_and_plot_all(fd_from, fd_to)\n",
    "\n",
    "#run_and_plot_all(6, 10)    # plot without widgets as a workaround for Github/VS Code issues"
   ]
  }
 ],
 "metadata": {
  "kaggle": {
   "accelerator": "none",
   "dataSources": [],
   "dockerImageVersionId": 30715,
   "isGpuEnabled": false,
   "isInternetEnabled": true,
   "language": "python",
   "sourceType": "notebook"
  },
  "kernelspec": {
   "display_name": "Python 3",
   "language": "python",
   "name": "python3"
  },
  "language_info": {
   "codemirror_mode": {
    "name": "ipython",
    "version": 3
   },
   "file_extension": ".py",
   "mimetype": "text/x-python",
   "name": "python",
   "nbconvert_exporter": "python",
   "pygments_lexer": "ipython3",
   "version": "3.12.3"
  }
 },
 "nbformat": 4,
 "nbformat_minor": 4
}
