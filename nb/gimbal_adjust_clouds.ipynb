{
 "cells": [
  {
   "cell_type": "markdown",
   "metadata": {},
   "source": [
    "<a href=\"https://colab.research.google.com/github/0x1beef/uap/blob/main/nb/gimbal_adjust_clouds.ipynb\">\n",
    "    <img src=\"https://colab.research.google.com/assets/colab-badge.svg\" alt=\"Open In Colab\"/>\n",
    "</a>\n",
    "<a href=\"https://kaggle.com/kernels/welcome?src=https://github.com/0x1beef/uap/blob/main/nb/gimbal_adjust_clouds.ipynb\">\n",
    "    <img src=\"https://kaggle.com/static/images/open-in-kaggle.svg\" alt=\"Open In Kaggle\"   />\n",
    "</a>"
   ]
  },
  {
   "cell_type": "markdown",
   "metadata": {},
   "source": [
    "## **Get the data**"
   ]
  },
  {
   "cell_type": "code",
   "execution_count": null,
   "metadata": {},
   "outputs": [],
   "source": [
    "url = 'https://raw.githubusercontent.com/0x1beef/uap/main/nb'\n",
    "import urllib.request\n",
    "for py_file in ['utils.py','common.py']:\n",
    "    urllib.request.urlretrieve(f'{url}/{py_file}', py_file)\n",
    "import utils, common"
   ]
  },
  {
   "cell_type": "code",
   "execution_count": null,
   "metadata": {},
   "outputs": [],
   "source": [
    "utils.download_from_huggingface('logicbear/gimbal/data/object_data.parquet')\n",
    "utils.download_from_huggingface('logicbear/gimbal_clouds/data/cloud_motion.parquet')"
   ]
  },
  {
   "cell_type": "code",
   "execution_count": null,
   "metadata": {},
   "outputs": [],
   "source": [
    "(object_data, object_metadata) = utils.from_parquet_ext('data/object_data.parquet', 'gimbal')\n",
    "(cloud_data, cloud_metadata) = utils.from_parquet_ext('data/cloud_motion.parquet', 'clouds')\n",
    "\n",
    "params = cloud_metadata['params']\n",
    "print(f'frame_diff: {params[\"frame_diff_from\"]}-{params[\"frame_diff_to\"]}')\n",
    "\n",
    "import numpy as np\n",
    "\n",
    "def get_com(frame):\n",
    "    od = object_data.loc[frame]\n",
    "    return np.array([od.center_of_mass_x, od.center_of_mass_y]).T\n",
    "\n",
    "def get_horizon(frame):\n",
    "    return object_data.loc[frame].human_horizon"
   ]
  },
  {
   "cell_type": "markdown",
   "metadata": {},
   "source": [
    "## **Adjust to account for background motion/rotation**"
   ]
  },
  {
   "cell_type": "code",
   "execution_count": null,
   "metadata": {},
   "outputs": [],
   "source": [
    "import math\n",
    "from dataclasses import dataclass\n",
    "from numba import njit\n",
    "\n",
    "@dataclass\n",
    "class AdjustedMotion:\n",
    "    frame: int\n",
    "    magnitude: float; angle: float; rotation: float\n",
    "\n",
    "@njit\n",
    "def inlier_mean(corners, inliers):\n",
    "    (sum_x, sum_y, num_inliers) = (0.0, 0.0, 0)\n",
    "    for ((cx, cy), inlier) in zip(corners, inliers):\n",
    "        if inlier:\n",
    "            sum_x += float(cx); sum_y += float(cy)\n",
    "            num_inliers += 1\n",
    "    return np.array([sum_x / num_inliers, sum_y / num_inliers]).T\n",
    "\n",
    "def adjust_cloud_motion(frame):\n",
    "    cd = cloud_data.loc[frame]\n",
    "    R = cd['transform'][0:2,0:2]\n",
    "    scale = math.sqrt(R[0,0]*R[0,0] + R[0,1]*R[0,1])\n",
    "    R = R / scale\n",
    "    C = np.array([213,211]).T\n",
    "    P1 = inlier_mean(cd.corners, cd.inliers)\n",
    "    P2 = inlier_mean(cd.corners_next, cd.inliers)\n",
    "    Rinv = np.linalg.inv(R)\n",
    "    O1 = get_com(frame)\n",
    "    O2 = get_com(frame + cd.frame_diff)\n",
    "    V = Rinv @ (P2 - C) - P1 + C - (O2 - O1)\n",
    "    magnitude = np.linalg.norm(V) / cd.frame_diff\n",
    "    angle = math.degrees(math.atan2(V[1], V[0]))\n",
    "    rotation = cd.rotation + (get_horizon(frame + cd.frame_diff) - get_horizon(frame))\n",
    "    return AdjustedMotion(frame, magnitude, angle, rotation)\n",
    "\n",
    "def adjust_cloud_motion_for(frames):\n",
    "    return [adjust_cloud_motion(frame) for frame in frames]\n",
    "def run_adjust_cloud_motion():\n",
    "    return adjust_cloud_motion_for(range(len(cloud_data)))\n",
    "def run_adjust_cloud_motion_parallel():\n",
    "    return utils.run_jobs_in_parallel(thread_func = adjust_cloud_motion_for,\n",
    "        jobs = range(len(cloud_data)), threads = 4)\n",
    "\n",
    "adjust_cloud_motion(0)"
   ]
  },
  {
   "cell_type": "code",
   "execution_count": null,
   "metadata": {},
   "outputs": [],
   "source": [
    "%%time\n",
    "adj_motions = run_adjust_cloud_motion() #_parallel()\n",
    "print(len(adj_motions))"
   ]
  },
  {
   "cell_type": "markdown",
   "metadata": {},
   "source": [
    "## **Plot the results**"
   ]
  },
  {
   "cell_type": "code",
   "execution_count": null,
   "metadata": {},
   "outputs": [],
   "source": [
    "import pandas as pd\n",
    "df = pd.DataFrame.from_records([m.__dict__ for m in adj_motions], index = [\"frame\"])\n",
    "df = df.sort_index()\n",
    "\n",
    "df = common.gimbal_fix_wh_to_bh(df, ['magnitude','angle','rotation'])\n",
    "\n",
    "import matplotlib.pyplot as plt\n",
    "\n",
    "def plot(plot_func, x_range):\n",
    "    plot_func(x_range)\n",
    "    ax = plt.gca()\n",
    "    ax.set_xlabel('frames',loc='right')\n",
    "    fps = object_metadata['fps']\n",
    "    ax2 = ax.secondary_xaxis(location='top', \n",
    "        functions=(lambda frame: frame / fps, lambda time: time * fps))\n",
    "    ax2.set_xlabel('time [s]',loc='right')\n",
    "    plt.grid()\n",
    "    plt.legend()\n",
    "    plt.show()\n",
    "\n",
    "def mag_plot(range):\n",
    "    plt.title('cloud motion magnitude')\n",
    "    plt.ylabel('pixels / frame')\n",
    "    cloud_data.magnitude[range].plot(color='gray')\n",
    "    df.magnitude[range].plot(color='orange', label='mag adjusted')\n",
    "\n",
    "plot(mag_plot, range(len(cloud_data)))\n",
    "plot(mag_plot, range(700, len(cloud_data)))\n",
    "\n",
    "def angle_plot(range):\n",
    "    plt.title('cloud motion angle')\n",
    "    plt.ylabel('degrees')\n",
    "    cloud_data.angle[range].plot(color='gray')\n",
    "    df.angle[range].plot(color='orange', label='angle adjusted')\n",
    "    plt.ylim(bottom=13, top=48)\n",
    "    (-object_data.human_horizon)[range].plot()\n",
    "\n",
    "plot(angle_plot, range(len(cloud_data)))\n",
    "\n",
    "def rot_plot(range):\n",
    "    plt.title('cloud rotation')\n",
    "    plt.ylabel('degrees')\n",
    "    cloud_data.rotation[range].plot(color='gray')\n",
    "    df.rotation[range].plot(color='orange', label='rot adjusted')\n",
    "\n",
    "plot(rot_plot, range(len(cloud_data)))\n",
    "plot(rot_plot, range(700, len(cloud_data)))"
   ]
  }
 ],
 "metadata": {
  "kaggle": {
   "accelerator": "none",
   "dataSources": [],
   "dockerImageVersionId": 30715,
   "isGpuEnabled": false,
   "isInternetEnabled": true,
   "language": "python",
   "sourceType": "notebook"
  },
  "kernelspec": {
   "display_name": "Python 3",
   "language": "python",
   "name": "python3"
  },
  "language_info": {
   "codemirror_mode": {
    "name": "ipython",
    "version": 3
   },
   "file_extension": ".py",
   "mimetype": "text/x-python",
   "name": "python",
   "nbconvert_exporter": "python",
   "pygments_lexer": "ipython3",
   "version": "3.12.3"
  }
 },
 "nbformat": 4,
 "nbformat_minor": 4
}
