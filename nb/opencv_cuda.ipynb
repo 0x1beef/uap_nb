{
 "cells": [
  {
   "cell_type": "markdown",
   "metadata": {},
   "source": [
    "<a href=\"https://colab.research.google.com/github/0x1beef/uap/blob/main/nb/opencv_cuda.ipynb\">\n",
    "    <img src=\"https://colab.research.google.com/assets/colab-badge.svg\" alt=\"Open In Colab\"/>\n",
    "</a>\n",
    "<a href=\"https://kaggle.com/kernels/welcome?src=https://github.com/0x1beef/uap/blob/main/nb/opencv_cuda.ipynb\">\n",
    "    <img src=\"https://kaggle.com/static/images/open-in-kaggle.svg\" alt=\"Open In Kaggle\"   />\n",
    "</a>\n"
   ]
  },
  {
   "cell_type": "code",
   "execution_count": null,
   "metadata": {},
   "outputs": [],
   "source": [
    "url = 'https://raw.githubusercontent.com/0x1beef/uap/main/nb'\n",
    "!wget -nc -nv {url}/utils.py\n",
    "import utils\n"
   ]
  },
  {
   "cell_type": "code",
   "execution_count": null,
   "metadata": {},
   "outputs": [],
   "source": [
    "!lsb_release -a\n",
    "!nvidia-smi\n",
    "!nvidia-smi --query-gpu=compute_cap --format=csv\n"
   ]
  },
  {
   "cell_type": "code",
   "execution_count": null,
   "metadata": {},
   "outputs": [],
   "source": [
    "%%bash\n",
    "# do shallow clones of just the commit that we want, it's a bit faster\n",
    "shallow_clone () {\n",
    "  mkdir -p $1 && cd $1 && git init\n",
    "  git remote add origin $2\n",
    "  git fetch --depth 1 origin $3\n",
    "  git -c advice.detachedHead=false checkout FETCH_HEAD\n",
    "  cd ..\n",
    "}\n",
    "\n",
    "shallow_clone opencv https://github.com/opencv/opencv.git 4.9.0\n",
    "shallow_clone opencv_contrib https://github.com/opencv/opencv_contrib.git 4.9.0\n"
   ]
  },
  {
   "cell_type": "code",
   "execution_count": null,
   "metadata": {},
   "outputs": [],
   "source": [
    "if utils.get_platform() == \"kaggle\":\n",
    "    # fix cmake errors: /opt/conda/lib/libcurl.so.4: no version information available\n",
    "    # based on https://stackoverflow.com/a/53351227\n",
    "    !apt-get -y remove cmake\n",
    "    !mamba install -y cmake # using mamba instead of conda as it's faster\n",
    "    !cmake --version\n"
   ]
  },
  {
   "cell_type": "code",
   "execution_count": null,
   "metadata": {},
   "outputs": [],
   "source": [
    "# the original linker is slow and crashes while trying to allocate too much memory, using lld instead\n",
    "!apt-get -y install lld\n",
    "!lld --version\n"
   ]
  },
  {
   "cell_type": "code",
   "execution_count": null,
   "metadata": {},
   "outputs": [],
   "source": [
    "# remove the previous opencv version\n",
    "!pip uninstall opencv_python_headless opencv_python opencv_contrib_python -y\n"
   ]
  },
  {
   "cell_type": "code",
   "execution_count": null,
   "metadata": {},
   "outputs": [],
   "source": [
    "def get_cuda_arch_bin_ptx():\n",
    "    platform = utils.get_platform()\n",
    "    if platform == 'kaggle':\n",
    "        return ('60,75','') # T4x2 = 75, P100 = 60\n",
    "    if platform == 'colab':\n",
    "        return ('75','90') # T4 = 75\n",
    "    return ('','90')\n",
    "(cuda_arch_bin, cuda_arch_ptx) = get_cuda_arch_bin_ptx()\n"
   ]
  },
  {
   "cell_type": "code",
   "execution_count": null,
   "metadata": {},
   "outputs": [],
   "source": [
    "%%bash -s {cuda_arch_bin} {cuda_arch_ptx}\n",
    "# compute capabilities:\n",
    "CUDA_ARCH_BIN=$1\n",
    "CUDA_ARCH_PTX=$2\n",
    "\n",
    "CUDA_VERSION=`nvcc --version | grep -o 'release[^,]*' | cut -c 9-`\n",
    "echo \"CUDA $CUDA_VERSION\"\n",
    "\n",
    "# build reference: https://docs.opencv.org/4.x/db/d05/tutorial_config_reference.html\n",
    "# available modules: https://docs.opencv.org/4.9.0/modules.html\n",
    "# the opencv modules we're likely to need:\n",
    "BUILD_LIST=hdf,imgcodecs,imgproc,text,tracking,features2d,optflow,python3,xfeatures2d\n",
    "BUILD_LIST=$BUILD_LIST,cudafeatures2d,cudaimgproc,cudaoptflow,cudawarping,cudev\n",
    "BUILD_LIST=$BUILD_LIST,highgui # not used but building 'world' fails without this\n",
    "\n",
    "CMAKE_ARGS=(\n",
    "-B . -S ..\n",
    "-D CMAKE_BUILD_TYPE=RELEASE\n",
    "-D CMAKE_INSTALL_PREFIX=`pwd`/opencv/install\n",
    "-D OPENCV_EXTRA_MODULES_PATH=`pwd`/opencv_contrib/modules\n",
    "-D BUILD_LIST=$BUILD_LIST\n",
    "# building everything into one library (world) makes the build faster and is otherwise more convenient\n",
    "-D BUILD_opencv_world=ON\n",
    "# the dnn module needs protobuf, but we don't need dnn yet so disable both\n",
    "-D BUILD_opencv_dnn=OFF\n",
    "-D WITH_PROTOBUF=OFF\n",
    "-D WITH_DNN=OFF\n",
    "-D OPENCV_DNN_CUDA=OFF\n",
    "-D WITH_CUDNN=OFF\n",
    "# enable building e.g SURF, which is patented / not free\n",
    "-D OPENCV_ENABLE_NONFREE=ON\n",
    "# dont use the old CUDA cmake functions, as per https://cmake.org/cmake/help/latest/policy/CMP0146.html\n",
    "-D ENABLE_CUDA_FIRST_CLASS_LANGUAGE=ON\n",
    "# fix for: CUDA: Not detected! If you are not using the default host compiler (g++)\n",
    "# then you need to specify both CMAKE_CUDA_HOST_COMPILER and CMAKE_CUDA_COMPILER.\n",
    "-D CMAKE_CUDA_HOST_COMPILER=/usr/bin/g++\n",
    "-D CMAKE_CUDA_COMPILER=/usr/local/cuda-$CUDA_VERSION/bin/nvcc\n",
    "-D WITH_CUDA=ON\n",
    "-D CUDA_ARCH_BIN=$CUDA_ARCH_BIN\n",
    "-D CUDA_ARCH_PTX=$CUDA_ARCH_PTX\n",
    "-D WITH_CUBLAS=ON\n",
    "-D WITH_TBB=ON # todo: is this used ?\n",
    "-D BUILD_EXAMPLES=OFF\n",
    "-D BUILD_TESTS=OFF\n",
    "-D BUILD_PERF_TESTS=OFF\n",
    "-D BUILD_opencv_apps=OFF\n",
    "# we dont need GTK since the gui doesnt work in a notebook\n",
    "-D WITH_GTK=OFF\n",
    "-D WITH_OPENEXR=OFF\n",
    "-D WITH_PYTHON=ON\n",
    "-D BUILD_opencv_python3=ON\n",
    "# python varibles from https://stackoverflow.com/a/54176727\n",
    "-D PYTHON3_EXECUTABLE=$(which python3)\n",
    "-D PYTHON_INCLUDE_DIR=$(python3 -c \"from distutils.sysconfig import get_python_inc; print(get_python_inc())\")\n",
    "-D PYTHON_INCLUDE_DIR2=$(python3 -c \"from os.path import dirname; from distutils.sysconfig import get_config_h_filename; print(dirname(get_config_h_filename()))\")\n",
    "-D PYTHON_LIBRARY=$(python3 -c \"from distutils.sysconfig import get_config_var;from os.path import dirname,join ; print(join(dirname(get_config_var('LIBPC')),get_config_var('LDLIBRARY')))\")\n",
    "-D PYTHON3_NUMPY_INCLUDE_DIRS=$(python3 -c \"import numpy; print(numpy.get_include())\")\n",
    "-D PYTHON3_PACKAGES_PATH=$(python3 -c \"from distutils.sysconfig import get_python_lib; print(get_python_lib())\")\n",
    ")\n",
    "\n",
    "cd opencv\n",
    "rm -rf build install\n",
    "mkdir -p build install\n",
    "cd build\n",
    "# for some reason this fails to find cuda_runtime.h and some libraries so add the paths manually\n",
    "export INCLUDES=\"-I/usr/local/cuda-$CUDA_VERSION/include\"\n",
    "export LIBRARIES=\"-L/usr/local/cuda-$CUDA_VERSION/lib64\"\n",
    "export LDFLAGS=\"-fuse-ld=lld\" # use the lld linker\n",
    "time cmake \"${CMAKE_ARGS[@]}\"\n"
   ]
  },
  {
   "cell_type": "code",
   "execution_count": null,
   "metadata": {},
   "outputs": [],
   "source": [
    "%%bash\n",
    "cd opencv/build\n",
    "time cmake --build . --parallel 4 # run only some jobs in parallel to avoid running out of memory\n"
   ]
  },
  {
   "cell_type": "code",
   "execution_count": null,
   "metadata": {},
   "outputs": [],
   "source": [
    "%%bash\n",
    "cd opencv/build\n",
    "time cmake --install .\n"
   ]
  },
  {
   "cell_type": "code",
   "execution_count": null,
   "metadata": {},
   "outputs": [],
   "source": [
    "import cv2\n",
    "print(cv2.__version__)\n",
    "print(cv2.getBuildInformation())\n",
    "# on Colab nvcc is available to build even when no GPU is present\n",
    "if utils.get_platform() != 'colab':\n",
    "    import numpy as np\n",
    "    a = np.full((480,480), 60, np.uint8)\n",
    "    ga = cv2.cuda.GpuMat(a)\n"
   ]
  },
  {
   "cell_type": "code",
   "execution_count": null,
   "metadata": {},
   "outputs": [],
   "source": [
    "%%bash\n",
    "OPENCV_LIB=\"opencv/install/lib/libopencv_world.so\"\n",
    "DEPS=`ldd $OPENCV_LIB | grep \"=>\" | sed \"s/.*=> //\" | sed \"s/ (.*//\"`\n",
    "md5sum -b $DEPS > opencv_cuda.md5\n",
    "cp opencv_cuda.md5 opencv/install/lib\n",
    "\n",
    "PACKAGES_PATH=$(python3 -c \"from distutils.sysconfig import get_python_lib; print(get_python_lib())\")\n",
    "\n",
    "tar -czf opencv_cuda.tar.gz -C $PACKAGES_PATH cv2 -C `pwd`/opencv install\n",
    "du -hs *.tar.gz\n"
   ]
  },
  {
   "cell_type": "code",
   "execution_count": null,
   "metadata": {},
   "outputs": [],
   "source": [
    "utils.upload_to_huggingface(['opencv_cuda.tar.gz', 'opencv_cuda.md5'], \n",
    "    f'logicbear/cache/opencv/{utils.get_platform()}')\n"
   ]
  }
 ],
 "metadata": {
  "kaggle": {
   "accelerator": "gpu",
   "dataSources": [],
   "dockerImageVersionId": 30698,
   "isGpuEnabled": true,
   "isInternetEnabled": true,
   "language": "python",
   "sourceType": "notebook"
  },
  "kernelspec": {
   "display_name": "Python 3",
   "language": "python",
   "name": "python3"
  },
  "language_info": {
   "codemirror_mode": {
    "name": "ipython",
    "version": 3
   },
   "file_extension": ".py",
   "mimetype": "text/x-python",
   "name": "python",
   "nbconvert_exporter": "python",
   "pygments_lexer": "ipython3",
   "version": "3.10.13"
  }
 },
 "nbformat": 4,
 "nbformat_minor": 4
}
